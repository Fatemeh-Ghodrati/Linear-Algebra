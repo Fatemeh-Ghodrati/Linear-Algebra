{
 "cells": [
  {
   "cell_type": "code",
   "execution_count": 2,
   "id": "420d1334-d334-406c-a2f7-446eccd6a0c8",
   "metadata": {},
   "outputs": [
    {
     "name": "stdout",
     "output_type": "stream",
     "text": [
      "Requirement already satisfied: numpy in c:\\python\\python310\\lib\\site-packages (1.26.1)\n"
     ]
    },
    {
     "name": "stderr",
     "output_type": "stream",
     "text": [
      "\n",
      "[notice] A new release of pip is available: 23.1.2 -> 23.3.1\n",
      "[notice] To update, run: python.exe -m pip install --upgrade pip\n"
     ]
    }
   ],
   "source": [
    "! pip install numpy"
   ]
  },
  {
   "cell_type": "code",
   "execution_count": 3,
   "id": "107f9bc8-934f-47da-96a9-340bc2ae3e35",
   "metadata": {},
   "outputs": [],
   "source": [
    "import numpy as np"
   ]
  },
  {
   "cell_type": "markdown",
   "id": "5d5b4208-d925-4307-8a66-1c40d6c903b3",
   "metadata": {},
   "source": [
    "<div style=\"text-align: right\">\n",
    "برای این کار در ابتدا باید توابعی را پیاده سازی کنیم که عملیات کاهش سطری را انجام میدهند\n",
    "</div>"
   ]
  },
  {
   "cell_type": "markdown",
   "id": "e6fe59c3-7aa8-4a1b-91ef-d675d676aad4",
   "metadata": {},
   "source": [
    "<div style=\"text-align: right\">\n",
    "جا به جایی دو سطر\n",
    "<br/>\n",
    "این تابع یک ماتریس و اندیس دو سطر را میگیرد و آن دو سطر را در آن ماتریس جا به جا میکند\n",
    "</div>"
   ]
  },
  {
   "cell_type": "code",
   "execution_count": 4,
   "id": "9b40bb9d-dca8-4cbf-9c8e-f2f140ebb5f8",
   "metadata": {},
   "outputs": [],
   "source": [
    "def interchange(matrix, first_row_index, second_row_index):\n",
    "    matrix[[first_row_index, second_row_index]] = matrix[[second_row_index, first_row_index]]\n",
    "    return matrix"
   ]
  },
  {
   "cell_type": "markdown",
   "id": "fd4d9b78-7445-4e3a-8482-ccfd064d2c36",
   "metadata": {},
   "source": [
    "<div style=\"text-align: right\">\n",
    "ضرب سطر در یک عدد\n",
    "<br/>\n",
    "این تابع یک ماتریس و یک سطر و یک عدد را می گیرد و تمام عناصر آن سطر را بر آن عدد تقسیم می کند.\n",
    "</div>"
   ]
  },
  {
   "cell_type": "code",
   "execution_count": 5,
   "id": "4ca00743-3ce8-434b-b285-80ee3ef331b1",
   "metadata": {},
   "outputs": [],
   "source": [
    "def scale(matrix, row_index, scalar):\n",
    "    if scalar != 0:\n",
    "        # Divide all elements of a row by a scalar\n",
    "        matrix[row_index] /= scalar\n",
    "    return matrix"
   ]
  },
  {
   "cell_type": "markdown",
   "id": "cc31c066-ffa3-4a60-a3ee-872ccbecd042",
   "metadata": {},
   "source": [
    "<div style=\"text-align: right\">\n",
    "جمع یک سطر با ضریبی اس سطر دیگر\n",
    "<br/>\n",
    "این تابع یک ماتریس و اندیس دو سطر و یک عدد را میگیرد و حاصل ضرب دومی در عدد را با سطر اول جمع میکند و به جای سطر اول میگذارد\n",
    "</div>"
   ]
  },
  {
   "cell_type": "code",
   "execution_count": 6,
   "id": "e719b858-b388-4b27-a6e8-bd57cef28049",
   "metadata": {},
   "outputs": [],
   "source": [
    "def replace(matrix, first_row_index, second_row_index, scalar):\n",
    "    matrix[first_row_index] -= scalar * matrix[second_row_index]\n",
    "    return matrix"
   ]
  },
  {
   "cell_type": "markdown",
   "id": "94c4b016-0f3b-44b8-a72d-b3671d0021fe",
   "metadata": {},
   "source": [
    "<div style=\"text-align: right\">\n",
    "این تابع یک ماتریس و سطر محوری و ستون کنونی را می گیرد و ماتریس را به فرم پایین مثلثی در می آورد.\n",
    "</div>"
   ]
  },
  {
   "cell_type": "code",
   "execution_count": 7,
   "id": "413279c1-31c3-4eca-83e4-88c7e5f56823",
   "metadata": {},
   "outputs": [],
   "source": [
    "def upper_triangle_form(matrix, pivot_row, current_col):\n",
    "    rows, cols = matrix.shape\n",
    "    for r in range(rows):\n",
    "        if r != pivot_row:\n",
    "            scalar = matrix[r, current_col]\n",
    "            matrix = replace(matrix, r, pivot_row, scalar)\n",
    "    return matrix"
   ]
  },
  {
   "cell_type": "markdown",
   "id": "ad8ca9c3-0ba1-4516-928c-ee3b33f2a06d",
   "metadata": {},
   "source": [
    "<div style=\"text-align: right\">\n",
    "تابع نهایی: این تابع ماتریس افزوده را میگیرد و به فرم نردبانی کاهش یافته در می آورد و خروجی را برمیگرداند\n",
    "</div>"
   ]
  },
  {
   "cell_type": "code",
   "execution_count": 8,
   "id": "1667eddd-cf9f-4717-9292-b52dd5e71bb7",
   "metadata": {},
   "outputs": [],
   "source": [
    "def reduced_echelon_form(augmented_matrix):\n",
    "    matrix = np.array(augmented_matrix, dtype=float)\n",
    "    rows, cols = matrix.shape\n",
    "    \n",
    "    current_row = 0\n",
    "    for c in range(cols - 1):\n",
    "        if current_row == rows:\n",
    "            break\n",
    "        # Find the pivot row\n",
    "        pivot_row = current_row\n",
    "        while pivot_row < rows and matrix[pivot_row, c] == 0:\n",
    "            pivot_row += 1\n",
    "        \n",
    "        if pivot_row == rows:\n",
    "            continue\n",
    "\n",
    "        # Change nonzero rows to be upper rows\n",
    "        matrix = interchange(matrix, current_row, pivot_row)\n",
    "        \n",
    "        pivot_value = matrix[pivot_row, c]\n",
    "        # Call scale function to make the pivot value equal to 1\n",
    "        matrix = scale(matrix, pivot_row, pivot_value)\n",
    "        \n",
    "        # Change matrix to upper triangle form\n",
    "        matrix = upper_triangle_form(matrix, pivot_row, c)\n",
    "        \n",
    "        current_row += 1\n",
    "    \n",
    "    # Change matrix to lower triangle form\n",
    "    for r in range(rows):\n",
    "        matrix = scale(matrix, r, matrix[r,r])\n",
    "        for r2 in range(rows):\n",
    "                if r2 != r:\n",
    "                    factor = matrix[r2, r]\n",
    "                    matrix[r2] -= factor * matrix[r]\n",
    "        \n",
    "    return matrix"
   ]
  },
  {
   "cell_type": "markdown",
   "id": "2b55bee9-f70d-43e6-bc66-6ab72cd985d6",
   "metadata": {},
   "source": [
    "<div style=\"text-align: right\">\n",
    "تست تابع با ماتریس افزوده توصیف شده\n",
    "</div>"
   ]
  },
  {
   "cell_type": "code",
   "execution_count": null,
   "id": "18903197-1934-40cc-89af-710f51c1dbac",
   "metadata": {},
   "outputs": [],
   "source": [
    "augmented_matrix = np.array([\n",
    "    [1, 1, 0, 0, 0,  800],\n",
    "    [0, 1,-1, 1, 0,  300],\n",
    "    [0, 0, 0, 1, 1,  500],\n",
    "    [1, 0, 0, 0, 1,  600]\n",
    "])\n",
    "matrix = reduced_echelon_form(augmented_matrix)\n",
    "print(\"Output 1:\")\n",
    "print(matrix)\n",
    "\n",
    "augmented_matrix = np.array([\n",
    "    [1, 1, 1],\n",
    "    [1, 1, 1],\n",
    "    [1, 1, 1]\n",
    "])\n",
    "matrix = reduced_echelon_form(augmented_matrix)\n",
    "print(\"Output 2:\")\n",
    "print(matrix)\n",
    "\n",
    "augmented_matrix = np.array([\n",
    "    [3, 5, -4, 0],\n",
    "    [-3, -2, 4, 0],\n",
    "    [6, 1, -8, 0]\n",
    "])\n",
    "matrix = reduced_echelon_form(augmented_matrix)\n",
    "print(\"Output 3:\")\n",
    "print(matrix)\n",
    "\n",
    "augmented_matrix = np.array([\n",
    "    [1, 4, 2, 0],\n",
    "    [2, 5, 1, 0],\n",
    "    [3, 6, 0, 0]\n",
    "])\n",
    "matrix = reduced_echelon_form(augmented_matrix)\n",
    "print(\"Output 4:\")\n",
    "print(matrix)"
   ]
  }
 ],
 "metadata": {
  "kernelspec": {
   "display_name": "Python 3 (ipykernel)",
   "language": "python",
   "name": "python3"
  },
  "language_info": {
   "codemirror_mode": {
    "name": "ipython",
    "version": 3
   },
   "file_extension": ".py",
   "mimetype": "text/x-python",
   "name": "python",
   "nbconvert_exporter": "python",
   "pygments_lexer": "ipython3",
   "version": "3.10.5"
  }
 },
 "nbformat": 4,
 "nbformat_minor": 5
}
