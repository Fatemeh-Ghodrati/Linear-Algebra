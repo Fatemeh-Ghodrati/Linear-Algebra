{
 "cells": [
  {
   "cell_type": "code",
   "execution_count": 81,
   "metadata": {},
   "outputs": [],
   "source": [
    "import numpy as np\n",
    "import numpy.typing as npt\n",
    "import matplotlib.pyplot as plt\n"
   ]
  },
  {
   "cell_type": "code",
   "execution_count": 82,
   "metadata": {},
   "outputs": [],
   "source": [
    "#input: list of n triangles (3n vertices), as an nparray with shape (3n,2)\n",
    "#output: rasterized screen\n",
    "def raster(tris):\n",
    "    list = np.array_split(tris, int(np.shape(tris)[0]/3) , axis=0)\n",
    "    plt.figure(figsize=(12, 12), dpi=100)\n",
    "    plt.axis('equal')\n",
    "    for tri in list:\n",
    "        x = tri[ :,0]\n",
    "        y = tri[ :,1]\n",
    "        plt.fill(x, y)\n",
    "    plt.ylim([10, 40])\n",
    "    plt.xlim([-20, 10])\n",
    "    plt.show()"
   ]
  },
  {
   "cell_type": "code",
   "execution_count": 83,
   "metadata": {},
   "outputs": [],
   "source": [
    "import math\n",
    "class Model:\n",
    "    vertices: npt.NDArray # list of vertices\n",
    "    position: npt.NDArray # 3 dimensional vector, position of the model in the world\n",
    "    scale:    npt.NDArray # 3 dimensional vector, how much each coordinate of the model is scaled\n",
    "    rotation: npt.NDArray # euler angles representation of rotation\n",
    "    def __init__(self, verts, pos, scale, rot):\n",
    "        self.vertices = verts\n",
    "        self.position = pos\n",
    "        self.scale = scale\n",
    "        self.rotation = rot\n",
    "        pass\n",
    "\n",
    "model_vertices = [[-1,0,0],[-1,0,1],[1,0,0], [1,0,0],[-1,0,1],[1,0,1], [-1,0,0],[1,1,0],[1,0,0], [-1,0,0],[1,1,0],[-1,1,0]]\n",
    "model_vertices = np.array(model_vertices)\n",
    "model_pos = np.array([0.5, 0.5, 0.5]) # translate x,y,z to 0.5, 0.5, 0.5\n",
    "model_scale = np.array([2,1,1]) \n",
    "model_rotation = np.array([45,0,0])\n",
    "model =  Model(model_vertices, model_pos, model_scale, model_rotation)\n",
    "\n",
    "# RPG_8 update\n",
    "shape = model_vertices.shape[0]\n",
    "last_column = np.ones((shape, 1))\n",
    "model_vertices = np.hstack((model_vertices,last_column))\n",
    "\n",
    "# convert degree to radian\n",
    "model_rotation_radian = np.radians(model_rotation)\n",
    "\n",
    "scale = np.array([[model_scale[0], 0, 0, 0], # create scale matrix\n",
    "                [0, model_scale[1], 0, 0],\n",
    "                [0, 0, model_scale[2], 0],\n",
    "                [0, 0, 0, 1]])\n",
    "\n",
    "rotate_x = np.array([[1, 0, 0, 0], # rotate around x\n",
    "                    [0,  math.cos(model_rotation_radian[0]), math.sin(model_rotation_radian[0]), 0],\n",
    "                    [0, -math.sin(model_rotation_radian[0]), math.cos(model_rotation_radian[0]), 0],\n",
    "                    [0, 0, 0, 1]])\n",
    "\n",
    "rotate_y = np.array([[math.cos(model_rotation_radian[1]), 0, -math.sin(model_rotation_radian[1]), 0], # rotate around y\n",
    "                    [0, 1, 0, 0],\n",
    "                    [math.sin(model_rotation_radian[1]), 0,  math.cos(model_rotation_radian[1]), 0],\n",
    "                    [0, 0, 0, 1]])\n",
    "\n",
    "rotate_z = np.array([[math.cos(model_rotation_radian[2]), -math.sin(model_rotation_radian[2]), 0, 0], # rotate around z\n",
    "                    [math.sin(model_rotation_radian[2]),  math.cos(model_rotation_radian[2]), 0, 0],\n",
    "                    [0, 0, 1, 0],\n",
    "                    [0, 0, 0, 1]])\n",
    "rotate = np.dot(np.dot(rotate_x, rotate_y), rotate_z) # create rotate matrix\n",
    "\n",
    "translate = np.array([[1, 0, 0, model_pos[0]], # create translation matrix\n",
    "                      [0, 1, 0, model_pos[1]], \n",
    "                      [0, 0, 1, model_pos[2]], \n",
    "                      [0, 0, 0, 1]])\n",
    "\n",
    "world_transformation = np.dot(translate, np.dot(scale, rotate)) "
   ]
  },
  {
   "cell_type": "code",
   "execution_count": 84,
   "metadata": {},
   "outputs": [],
   "source": [
    "camera_pos = np.array((10,10,10))\n",
    "\n",
    "# RPG_8 update\n",
    "world_up_vector = np.array((0, 1, 0))\n",
    "\n",
    "camera_model = []\n",
    "\n",
    "forward_vector = model_pos - camera_pos # get forward vector\n",
    "norm_vector = np.linalg.norm(forward_vector)\n",
    "forward_vector /= norm_vector\n",
    "\n",
    "right_vector = np.cross(forward_vector, world_up_vector) \n",
    "norm_vector = np.linalg.norm(right_vector)\n",
    "right_vector /= norm_vector\n",
    "\n",
    "up_vector = np.cross(forward_vector, right_vector)\n",
    "norm_vector = np.linalg.norm(up_vector)\n",
    "up_vector /= norm_vector\n",
    "\n",
    "# create transformation matrix with basic vectors\n",
    "transformation_matrix = np.array([[right_vector[0], right_vector[1], right_vector[2], 0],\n",
    "                         [up_vector[0], up_vector[1], up_vector[2], 0 ],\n",
    "                         [-forward_vector[0], -forward_vector[1], -forward_vector[2], 0 ],\n",
    "                         [0, 0, 0, 1]])\n",
    "\n",
    "# create transformatin to move point to camera position\n",
    "camera_position = np.array([[1, 0, 0, -camera_pos[0]], \n",
    "                         [0, 1, 0, -camera_pos[1]],\n",
    "                         [0, 0, 1, -camera_pos[2]], \n",
    "                         [0, 0, 0, 1]])\n",
    "\n",
    "# final transformation to camera space\n",
    "camera_transformation = np.dot(transformation_matrix, camera_position)\n"
   ]
  },
  {
   "cell_type": "code",
   "execution_count": 85,
   "metadata": {},
   "outputs": [],
   "source": [
    "# apply camera transformation then world_transformation for each verticle\n",
    "for i in range(len(model_vertices)):\n",
    "    \n",
    "    model_vertices[i] = np.dot(world_transformation, np.dot(camera_transformation, model_vertices[i]))"
   ]
  },
  {
   "cell_type": "code",
   "execution_count": 86,
   "metadata": {},
   "outputs": [
    {
     "data": {
      "image/png": "[encoded data removed]",
      "text/plain": [
       "<Figure size 1200x1200 with 1 Axes>"
      ]
     },
     "metadata": {},
     "output_type": "display_data"
    }
   ],
   "source": [
    "v_w = 4\n",
    "v_h = 4\n",
    "c_w = 100\n",
    "c_h = 100\n",
    "d = 1\n",
    "\n",
    "plane_model = []\n",
    "v1 = []\n",
    "\n",
    "# move each varticle to plane space\n",
    "for v in model_vertices:\n",
    "    v1.append((v[0] * d) / v[2])\n",
    "    v1.append((v[1] * d )/ v[2])\n",
    "    v1[0] = (v1[0] * c_w) / v_w\n",
    "    v1[1] = (v1[1] * c_h) / v_h\n",
    "    v1 = np.array(v1)\n",
    "    plane_model.append(v1)\n",
    "    v1 = []\n",
    "\n",
    "\n",
    "plane_model = np.array(plane_model)\n",
    "raster(plane_model)"
   ]
  }
 ],
 "metadata": {
  "kernelspec": {
   "display_name": "Python 3",
   "language": "python",
   "name": "python3"
  },
  "language_info": {
   "codemirror_mode": {
    "name": "ipython",
    "version": 3
   },
   "file_extension": ".py",
   "mimetype": "text/x-python",
   "name": "python",
   "nbconvert_exporter": "python",
   "pygments_lexer": "ipython3",
   "version": "3.10.5"
  },
  "orig_nbformat": 4
 },
 "nbformat": 4,
 "nbformat_minor": 2
}
